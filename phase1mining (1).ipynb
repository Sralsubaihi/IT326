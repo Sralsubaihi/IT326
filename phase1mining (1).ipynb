{
 "cells": [
  {
   "cell_type": "markdown",
   "metadata": {},
   "source": [
    "## phase1 : \n",
    "**1- Goal of Collecting this Dataset:** \n",
    "\n",
    "The goal of this project is to apply classification and clustering techniques to assess stroke risk. The classification model will predict the likelihood of a stroke based on health attributes such as age, hypertension, and heart disease. The clustering model will uncover patterns by grouping individuals with similar health characteristics, providing insights into the relationships between various health factors and stroke risk.\n",
    "\n",
    "\n",
    "\n"
   ]
  },
  {
   "cell_type": "markdown",
   "metadata": {},
   "source": [
    "**2- Source of DataSet :**\n",
    "\n",
    "https://www.kaggle.com/datasets/fedesoriano/stroke-prediction-dataset "
   ]
  },
  {
   "cell_type": "markdown",
   "metadata": {},
   "source": [
    "**Read Dataset :**\n"
   ]
  },
  {
   "cell_type": "code",
   "execution_count": null,
   "metadata": {},
   "outputs": [],
   "source": [
    "import pandas as pd\n",
    "\n",
    "df = pd.read_csv('Stroke Dataset.csv')\n",
    "print(\"General information about the dataset:\")\n",
    "print(f\"Number of Attributes: {len(df.columns)}\")\n",
    "print('\\n')\n",
    "print(f\"Number of Objects: {len(df)}\")\n",
    "print(\"Class lable : Stroke \")\n"
   ]
  },
  {
   "cell_type": "markdown",
   "metadata": {},
   "source": [
    "**General information about the dataset:**\n",
    "\n",
    "Number of Attributes: 12 \n",
    "\n",
    "Number of Objects:  5110\n",
    "\n",
    "Class lable : Stroke"
   ]
  },
  {
   "cell_type": "code",
   "execution_count": null,
   "metadata": {},
   "outputs": [],
   "source": [
    "attribute_information = pd.DataFrame({\n",
    "    'AttributeName': df.columns,\n",
    "    'DataType': df.dtypes.values\n",
    "})\n",
    "\n",
    "print(\"Attributes and Their Types:\")\n",
    "print(attribute_information)"
   ]
  },
  {
   "cell_type": "markdown",
   "metadata": {},
   "source": [
    "Attributes and Their Types:\n",
    "\n",
    "         AttributeName   DataType\n",
    "\n",
    "0                  id     int64\n",
    "\n",
    "1                gender   object\n",
    "\n",
    "2                 age   float64\n",
    "\n",
    "3            hypertension   int64\n",
    "\n",
    "4             heart_disease   int64\n",
    "\n",
    "5               marital_status   object\n",
    "\n",
    "6                  work_type   object\n",
    "\n",
    "7               residence_type   object\n",
    "\n",
    "8                 avg_glucose_level   float64\n",
    "\n",
    "9                      bmi   float64\n",
    "\n",
    "10               stroke   int64\n",
    "\n",
    "11           smoking_status   object\n",
    "\n"
   ]
  }
 ],
 "metadata": {
  "kernelspec": {
   "display_name": "Python 3",
   "language": "python",
   "name": "python3"
  },
  "language_info": {
   "codemirror_mode": {
    "name": "ipython",
    "version": 3
   },
   "file_extension": ".py",
   "mimetype": "text/x-python",
   "name": "python",
   "nbconvert_exporter": "python",
   "pygments_lexer": "ipython3",
   "version": "3.11.3"
  }
 },
 "nbformat": 4,
 "nbformat_minor": 2
}
